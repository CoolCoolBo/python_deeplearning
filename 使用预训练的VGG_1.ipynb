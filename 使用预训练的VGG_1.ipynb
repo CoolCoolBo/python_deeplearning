{
 "cells": [
  {
   "cell_type": "markdown",
   "metadata": {},
   "source": [
    "## 在数据集上运行卷积基，将输出保存成Numpy数组，然后将其作为输入，输入到独立的密集连接分类器中"
   ]
  },
  {
   "cell_type": "code",
   "execution_count": 4,
   "metadata": {},
   "outputs": [],
   "source": [
    "from keras.applications import VGG16\n",
    "conv_base = VGG16(weights='imagenet', include_top=False, input_shape=(150, 150, 3))"
   ]
  },
  {
   "cell_type": "code",
   "execution_count": 7,
   "metadata": {},
   "outputs": [],
   "source": [
    "import os\n",
    "import numpy as np\n",
    "from keras.preprocessing.image import ImageDataGenerator"
   ]
  },
  {
   "cell_type": "code",
   "execution_count": 8,
   "metadata": {},
   "outputs": [],
   "source": [
    "base_dir = '/home/bo/深度学习/python深度学习/cats_and_dogs_small'\n",
    "train_dir = os.path.join(base_dir, 'train')\n",
    "validation_dir = os.path.join(base_dir, 'validation')\n",
    "test_dir = os.path.join(base_dir, 'test')"
   ]
  },
  {
   "cell_type": "code",
   "execution_count": 11,
   "metadata": {},
   "outputs": [],
   "source": [
    "datagen = ImageDataGenerator(rescale=1./255)\n",
    "batch_size = 20\n",
    "\n",
    "def extract_features(directory, sample_count):\n",
    "    features = np.zeros(shape=(sample_count, 4, 4, 512))\n",
    "    labels = np.zeros(shape=(sample_count))\n",
    "    generator = datagen.flow_from_directory(directory, target_size=(150,150), batch_size=batch_size, class_mode='binary')\n",
    "    \n",
    "    i = 0\n",
    "    for inputs_batch, labels_batch in generator:\n",
    "        features_batch = conv_base.predict(inputs_batch)\n",
    "        features[i * batch_size : (i + 1) * batch_size] = features_batch\n",
    "        labels[i * batch_size : (i + 1) * batch_size] = labels_batch\n",
    "        i += 1\n",
    "        if i * batch_size >= sample_count:\n",
    "            break\n",
    "    return features, labels"
   ]
  },
  {
   "cell_type": "code",
   "execution_count": 12,
   "metadata": {},
   "outputs": [
    {
     "name": "stdout",
     "output_type": "stream",
     "text": [
      "Found 2000 images belonging to 2 classes.\n",
      "Found 1000 images belonging to 2 classes.\n",
      "Found 1000 images belonging to 2 classes.\n"
     ]
    }
   ],
   "source": [
    "train_features, train_labels = extract_features(train_dir, 2000)\n",
    "validation_features, validation_labels = extract_features(validation_dir, 1000)\n",
    "test_features, test_labels = extract_features(test_dir, 1000)\n",
    "\n",
    "train_features = np.reshape(train_features, (2000, 4*4*512))\n",
    "validation_features = np.reshape(validation_features, (1000, 4*4*512))\n",
    "test_features = np.reshape(test_features, (1000, 4*4*512))"
   ]
  },
  {
   "cell_type": "code",
   "execution_count": 13,
   "metadata": {},
   "outputs": [],
   "source": [
    "from keras import models\n",
    "from keras import layers\n",
    "from keras import optimizers"
   ]
  },
  {
   "cell_type": "code",
   "execution_count": 15,
   "metadata": {},
   "outputs": [
    {
     "name": "stdout",
     "output_type": "stream",
     "text": [
      "WARNING:tensorflow:From /home/bo/anaconda3/lib/python3.6/site-packages/keras/backend/tensorflow_backend.py:1297: calling reduce_mean (from tensorflow.python.ops.math_ops) with keep_dims is deprecated and will be removed in a future version.\n",
      "Instructions for updating:\n",
      "keep_dims is deprecated, use keepdims instead\n",
      "Train on 2000 samples, validate on 1000 samples\n",
      "Epoch 1/30\n",
      "2000/2000 [==============================] - 4s - loss: 0.5726 - acc: 0.6890 - val_loss: 0.4267 - val_acc: 0.8550\n",
      "Epoch 2/30\n",
      "2000/2000 [==============================] - 3s - loss: 0.4177 - acc: 0.8140 - val_loss: 0.3476 - val_acc: 0.8740\n",
      "Epoch 3/30\n",
      "2000/2000 [==============================] - 3s - loss: 0.3448 - acc: 0.8565 - val_loss: 0.3138 - val_acc: 0.8740\n",
      "Epoch 4/30\n",
      "2000/2000 [==============================] - 3s - loss: 0.3048 - acc: 0.8850 - val_loss: 0.2952 - val_acc: 0.8830\n",
      "Epoch 5/30\n",
      "2000/2000 [==============================] - 3s - loss: 0.2821 - acc: 0.8930 - val_loss: 0.2771 - val_acc: 0.8920\n",
      "Epoch 6/30\n",
      "2000/2000 [==============================] - 3s - loss: 0.2588 - acc: 0.9015 - val_loss: 0.2671 - val_acc: 0.8970\n",
      "Epoch 7/30\n",
      "2000/2000 [==============================] - 3s - loss: 0.2340 - acc: 0.9110 - val_loss: 0.2583 - val_acc: 0.9000\n",
      "Epoch 8/30\n",
      "2000/2000 [==============================] - 3s - loss: 0.2297 - acc: 0.9090 - val_loss: 0.2536 - val_acc: 0.9010\n",
      "Epoch 9/30\n",
      "2000/2000 [==============================] - 3s - loss: 0.2068 - acc: 0.9210 - val_loss: 0.2480 - val_acc: 0.9060\n",
      "Epoch 10/30\n",
      "2000/2000 [==============================] - 3s - loss: 0.2080 - acc: 0.9165 - val_loss: 0.2491 - val_acc: 0.9010\n",
      "Epoch 11/30\n",
      "2000/2000 [==============================] - 3s - loss: 0.1983 - acc: 0.9230 - val_loss: 0.2410 - val_acc: 0.9030\n",
      "Epoch 12/30\n",
      "2000/2000 [==============================] - 3s - loss: 0.1807 - acc: 0.9365 - val_loss: 0.2408 - val_acc: 0.9010\n",
      "Epoch 13/30\n",
      "2000/2000 [==============================] - 3s - loss: 0.1782 - acc: 0.9370 - val_loss: 0.2402 - val_acc: 0.9020\n",
      "Epoch 14/30\n",
      "2000/2000 [==============================] - 3s - loss: 0.1641 - acc: 0.9450 - val_loss: 0.2379 - val_acc: 0.9030\n",
      "Epoch 15/30\n",
      "2000/2000 [==============================] - 3s - loss: 0.1605 - acc: 0.9390 - val_loss: 0.2342 - val_acc: 0.9040\n",
      "Epoch 16/30\n",
      "2000/2000 [==============================] - 3s - loss: 0.1523 - acc: 0.9500 - val_loss: 0.2458 - val_acc: 0.9030\n",
      "Epoch 17/30\n",
      "2000/2000 [==============================] - 3s - loss: 0.1447 - acc: 0.9520 - val_loss: 0.2345 - val_acc: 0.9010\n",
      "Epoch 18/30\n",
      "2000/2000 [==============================] - 3s - loss: 0.1425 - acc: 0.9505 - val_loss: 0.2346 - val_acc: 0.9040\n",
      "Epoch 19/30\n",
      "2000/2000 [==============================] - 3s - loss: 0.1332 - acc: 0.9505 - val_loss: 0.2334 - val_acc: 0.9040\n",
      "Epoch 20/30\n",
      "2000/2000 [==============================] - 3s - loss: 0.1293 - acc: 0.9555 - val_loss: 0.2342 - val_acc: 0.9030\n",
      "Epoch 21/30\n",
      "2000/2000 [==============================] - 3s - loss: 0.1271 - acc: 0.9600 - val_loss: 0.2390 - val_acc: 0.9070\n",
      "Epoch 22/30\n",
      "2000/2000 [==============================] - 3s - loss: 0.1163 - acc: 0.9610 - val_loss: 0.2424 - val_acc: 0.9060\n",
      "Epoch 23/30\n",
      "2000/2000 [==============================] - 3s - loss: 0.1136 - acc: 0.9625 - val_loss: 0.2337 - val_acc: 0.9020\n",
      "Epoch 24/30\n",
      "2000/2000 [==============================] - 3s - loss: 0.1090 - acc: 0.9635 - val_loss: 0.2359 - val_acc: 0.9050\n",
      "Epoch 25/30\n",
      "2000/2000 [==============================] - 3s - loss: 0.1057 - acc: 0.9660 - val_loss: 0.2365 - val_acc: 0.9040\n",
      "Epoch 26/30\n",
      "2000/2000 [==============================] - 3s - loss: 0.0993 - acc: 0.9680 - val_loss: 0.2367 - val_acc: 0.9070\n",
      "Epoch 27/30\n",
      "2000/2000 [==============================] - 3s - loss: 0.0973 - acc: 0.9660 - val_loss: 0.2355 - val_acc: 0.9040\n",
      "Epoch 28/30\n",
      "2000/2000 [==============================] - 3s - loss: 0.0950 - acc: 0.9675 - val_loss: 0.2388 - val_acc: 0.9020\n",
      "Epoch 29/30\n",
      "2000/2000 [==============================] - 3s - loss: 0.0918 - acc: 0.9715 - val_loss: 0.2359 - val_acc: 0.9010\n",
      "Epoch 30/30\n",
      "2000/2000 [==============================] - 3s - loss: 0.0904 - acc: 0.9745 - val_loss: 0.2489 - val_acc: 0.9020\n"
     ]
    }
   ],
   "source": [
    "model = models.Sequential()\n",
    "model.add(layers.Dense(256, activation='relu', input_dim=4 * 4 * 512))\n",
    "model.add(layers.Dropout(0.5))\n",
    "model.add(layers.Dense(1, activation='sigmoid'))\n",
    "\n",
    "model.compile(optimizer=optimizers.RMSprop(lr=2e-5), loss='binary_crossentropy', metrics=['acc'])\n",
    "history = model.fit(train_features, train_labels, epochs=30, batch_size=20, validation_data=(validation_features, validation_labels))"
   ]
  },
  {
   "cell_type": "code",
   "execution_count": 17,
   "metadata": {},
   "outputs": [
    {
     "data": {
      "image/png": "[encoded data removed]",
      "text/plain": [
       "<Figure size 432x288 with 1 Axes>"
      ]
     },
     "metadata": {
      "needs_background": "light"
     },
     "output_type": "display_data"
    },
    {
     "data": {
      "image/png": "[encoded data removed]",
      "text/plain": [
       "<Figure size 432x288 with 1 Axes>"
      ]
     },
     "metadata": {
      "needs_background": "light"
     },
     "output_type": "display_data"
    }
   ],
   "source": [
    "import matplotlib.pyplot as plt\n",
    "%matplotlib inline\n",
    "\n",
    "acc = history.history['acc']\n",
    "val_acc = history.history['val_acc']\n",
    "loss = history.history['loss']\n",
    "val_loss = history.history['val_loss']\n",
    "\n",
    "epochs = range(1, len(acc) + 1)\n",
    "plt.plot(epochs, acc, 'bo', label='Training acc')\n",
    "plt.plot(epochs, val_acc, 'b', label='Validation acc')\n",
    "plt.title('Training and validation acc')\n",
    "plt.legend()\n",
    "\n",
    "plt.figure()\n",
    "\n",
    "plt.plot(epochs, loss, 'bo', label='Training loss')\n",
    "plt.plot(epochs, val_loss, 'b', label='Validation loss')\n",
    "plt.title('Training and validation loss')\n",
    "plt.legend()\n",
    "plt.show()\n"
   ]
  },
  {
   "cell_type": "code",
   "execution_count": null,
   "metadata": {},
   "outputs": [],
   "source": []
  }
 ],
 "metadata": {
  "kernelspec": {
   "display_name": "Python 3",
   "language": "python",
   "name": "python3"
  },
  "language_info": {
   "codemirror_mode": {
    "name": "ipython",
    "version": 3
   },
   "file_extension": ".py",
   "mimetype": "text/x-python",
   "name": "python",
   "nbconvert_exporter": "python",
   "pygments_lexer": "ipython3",
   "version": "3.6.5"
  }
 },
 "nbformat": 4,
 "nbformat_minor": 2
}
