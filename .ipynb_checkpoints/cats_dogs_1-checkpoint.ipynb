{
 "cells": [
  {
   "cell_type": "markdown",
   "metadata": {},
   "source": [
    "# 未优化的猫狗分类器"
   ]
  },
  {
   "cell_type": "code",
   "execution_count": 1,
   "metadata": {},
   "outputs": [],
   "source": [
    "import os, shutil"
   ]
  },
  {
   "cell_type": "code",
   "execution_count": 3,
   "metadata": {},
   "outputs": [],
   "source": [
    "original_dataset_dir = '/home/bo/深度学习/python深度学习/kaggle/train'\n",
    "base_dir = '/home/bo/深度学习/python深度学习/cats_and_dogs_small'\n",
    "os.mkdir(base_dir)"
   ]
  },
  {
   "cell_type": "code",
   "execution_count": 4,
   "metadata": {},
   "outputs": [],
   "source": [
    "train_dir = os.path.join(base_dir, 'train')\n",
    "os.mkdir(train_dir)\n",
    "validation_dir = os.path.join(base_dir, 'validation')\n",
    "os.mkdir(validation_dir)\n",
    "test_dir = os.path.join(base_dir, 'test')\n",
    "os.mkdir(test_dir)"
   ]
  },
  {
   "cell_type": "code",
   "execution_count": 5,
   "metadata": {},
   "outputs": [],
   "source": [
    "train_cats_dir = os.path.join(train_dir, 'cats')\n",
    "os.mkdir(train_cats_dir)\n",
    "train_dogs_dir = os.path.join(train_dir, 'dogs')\n",
    "os.mkdir(train_dogs_dir)\n",
    "\n",
    "validation_cats_dir = os.path.join(validation_dir, 'cats')\n",
    "os.mkdir(validation_cats_dir)\n",
    "validation_dogs_dir = os.path.join(validation_dir, 'dogs')\n",
    "os.mkdir(validation_dogs_dir)\n",
    "\n",
    "test_cats_dir = os.path.join(test_dir, 'cats')\n",
    "os.mkdir(test_cats_dir)\n",
    "test_dogs_dir = os.path.join(test_dir, 'dogs')\n",
    "os.mkdir(test_dogs_dir)"
   ]
  },
  {
   "cell_type": "code",
   "execution_count": 6,
   "metadata": {},
   "outputs": [],
   "source": [
    "fnames = ['cat.{}.jpg'.format(i) for i in range(1000)]\n",
    "for fname in fnames:\n",
    "    src = os.path.join(original_dataset_dir, fname)\n",
    "    dst = os.path.join(train_cats_dir, fname)\n",
    "    shutil.copyfile(src, dst)"
   ]
  },
  {
   "cell_type": "code",
   "execution_count": 7,
   "metadata": {},
   "outputs": [],
   "source": [
    "fnames = ['cat.{}.jpg'.format(i) for i in range(1000, 1500)]\n",
    "for fname in fnames:\n",
    "    src = os.path.join(original_dataset_dir, fname)\n",
    "    dst = os.path.join(validation_cats_dir, fname)\n",
    "    shutil.copyfile(src, dst)"
   ]
  },
  {
   "cell_type": "code",
   "execution_count": 8,
   "metadata": {},
   "outputs": [],
   "source": [
    "fnames = ['cat.{}.jpg'.format(i) for i in range(1500, 2000)]\n",
    "for fname in fnames:\n",
    "    src = os.path.join(original_dataset_dir, fname)\n",
    "    dst = os.path.join(test_cats_dir, fname)\n",
    "    shutil.copyfile(src, dst)"
   ]
  },
  {
   "cell_type": "code",
   "execution_count": 9,
   "metadata": {},
   "outputs": [],
   "source": [
    "fnames = ['dog.{}.jpg'.format(i) for i in range(1000)]\n",
    "for fname in fnames:\n",
    "    src = os.path.join(original_dataset_dir, fname)\n",
    "    dst = os.path.join(train_dogs_dir, fname)\n",
    "    shutil.copyfile(src, dst)"
   ]
  },
  {
   "cell_type": "code",
   "execution_count": 10,
   "metadata": {},
   "outputs": [],
   "source": [
    "fnames = ['dog.{}.jpg'.format(i) for i in range(1000, 1500)]\n",
    "for fname in fnames:\n",
    "    src = os.path.join(original_dataset_dir, fname)\n",
    "    dst = os.path.join(validation_dogs_dir, fname)\n",
    "    shutil.copyfile(src, dst)"
   ]
  },
  {
   "cell_type": "code",
   "execution_count": 11,
   "metadata": {},
   "outputs": [],
   "source": [
    "fnames = ['dog.{}.jpg'.format(i) for i in range(1500, 2000)]\n",
    "for fname in fnames:\n",
    "    src = os.path.join(original_dataset_dir, fname)\n",
    "    dst = os.path.join(test_dogs_dir, fname)\n",
    "    shutil.copyfile(src, dst)"
   ]
  },
  {
   "cell_type": "code",
   "execution_count": 13,
   "metadata": {},
   "outputs": [
    {
     "name": "stdout",
     "output_type": "stream",
     "text": [
      "Total training cat images: 1000\n",
      "Total validation cat images: 500\n",
      "Total test cat images: 500\n"
     ]
    }
   ],
   "source": [
    "print('Total training cat images:', len(os.listdir(train_cats_dir)))\n",
    "print('Total validation cat images:', len(os.listdir(validation_cats_dir)))\n",
    "print('Total test cat images:', len(os.listdir(test_cats_dir)))"
   ]
  },
  {
   "cell_type": "code",
   "execution_count": 14,
   "metadata": {},
   "outputs": [
    {
     "name": "stderr",
     "output_type": "stream",
     "text": [
      "Using TensorFlow backend.\n"
     ]
    }
   ],
   "source": [
    "from keras import layers\n",
    "from keras import models"
   ]
  },
  {
   "cell_type": "code",
   "execution_count": 15,
   "metadata": {},
   "outputs": [
    {
     "name": "stdout",
     "output_type": "stream",
     "text": [
      "WARNING:tensorflow:From /home/bo/anaconda3/lib/python3.6/site-packages/keras/backend/tensorflow_backend.py:1208: calling reduce_prod (from tensorflow.python.ops.math_ops) with keep_dims is deprecated and will be removed in a future version.\n",
      "Instructions for updating:\n",
      "keep_dims is deprecated, use keepdims instead\n"
     ]
    }
   ],
   "source": [
    "model = models.Sequential()\n",
    "model.add(layers.Conv2D(32, (3,3), activation='relu', input_shape=(150, 150, 3)))\n",
    "model.add(layers.MaxPooling2D((2,2)))\n",
    "model.add(layers.Conv2D(64, (3,3), activation='relu'))\n",
    "model.add(layers.MaxPooling2D((2,2)))\n",
    "model.add(layers.Conv2D(128, (3,3), activation='relu'))\n",
    "model.add(layers.MaxPooling2D((2,2)))\n",
    "model.add(layers.Conv2D(128, (3,3), activation='relu'))\n",
    "model.add(layers.MaxPooling2D((2,2)))\n",
    "model.add(layers.Flatten())\n",
    "model.add(layers.Dense(512, activation='relu'))\n",
    "model.add(layers.Dense(1, activation='sigmoid'))"
   ]
  },
  {
   "cell_type": "code",
   "execution_count": 16,
   "metadata": {},
   "outputs": [
    {
     "name": "stdout",
     "output_type": "stream",
     "text": [
      "_________________________________________________________________\n",
      "Layer (type)                 Output Shape              Param #   \n",
      "=================================================================\n",
      "conv2d_1 (Conv2D)            (None, 148, 148, 32)      896       \n",
      "_________________________________________________________________\n",
      "max_pooling2d_1 (MaxPooling2 (None, 74, 74, 32)        0         \n",
      "_________________________________________________________________\n",
      "conv2d_2 (Conv2D)            (None, 72, 72, 64)        18496     \n",
      "_________________________________________________________________\n",
      "max_pooling2d_2 (MaxPooling2 (None, 36, 36, 64)        0         \n",
      "_________________________________________________________________\n",
      "conv2d_3 (Conv2D)            (None, 34, 34, 128)       73856     \n",
      "_________________________________________________________________\n",
      "max_pooling2d_3 (MaxPooling2 (None, 17, 17, 128)       0         \n",
      "_________________________________________________________________\n",
      "conv2d_4 (Conv2D)            (None, 15, 15, 128)       147584    \n",
      "_________________________________________________________________\n",
      "max_pooling2d_4 (MaxPooling2 (None, 7, 7, 128)         0         \n",
      "_________________________________________________________________\n",
      "flatten_1 (Flatten)          (None, 6272)              0         \n",
      "_________________________________________________________________\n",
      "dense_1 (Dense)              (None, 512)               3211776   \n",
      "_________________________________________________________________\n",
      "dense_2 (Dense)              (None, 1)                 513       \n",
      "=================================================================\n",
      "Total params: 3,453,121\n",
      "Trainable params: 3,453,121\n",
      "Non-trainable params: 0\n",
      "_________________________________________________________________\n"
     ]
    }
   ],
   "source": [
    "model.summary()"
   ]
  },
  {
   "cell_type": "code",
   "execution_count": 18,
   "metadata": {},
   "outputs": [],
   "source": [
    "from keras import optimizers"
   ]
  },
  {
   "cell_type": "code",
   "execution_count": 19,
   "metadata": {},
   "outputs": [
    {
     "name": "stdout",
     "output_type": "stream",
     "text": [
      "WARNING:tensorflow:From /home/bo/anaconda3/lib/python3.6/site-packages/keras/backend/tensorflow_backend.py:1297: calling reduce_mean (from tensorflow.python.ops.math_ops) with keep_dims is deprecated and will be removed in a future version.\n",
      "Instructions for updating:\n",
      "keep_dims is deprecated, use keepdims instead\n"
     ]
    }
   ],
   "source": [
    "model.compile(loss='binary_crossentropy', optimizer=optimizers.RMSprop(lr=1e-4), metrics=['acc'])"
   ]
  },
  {
   "cell_type": "code",
   "execution_count": 20,
   "metadata": {},
   "outputs": [
    {
     "name": "stdout",
     "output_type": "stream",
     "text": [
      "Found 2000 images belonging to 2 classes.\n",
      "Found 1000 images belonging to 2 classes.\n"
     ]
    }
   ],
   "source": [
    "from keras.preprocessing.image import ImageDataGenerator\n",
    "\n",
    "train_datagen = ImageDataGenerator(rescale=1./255)\n",
    "test_datagen = ImageDataGenerator(rescale=1./255)\n",
    "\n",
    "train_generator = train_datagen.flow_from_directory(train_dir, target_size=(150,150), batch_size=20, class_mode='binary')\n",
    "validation_generator = test_datagen.flow_from_directory(validation_dir, target_size=(150,150), batch_size=20, class_mode='binary')"
   ]
  },
  {
   "cell_type": "code",
   "execution_count": 21,
   "metadata": {},
   "outputs": [
    {
     "name": "stdout",
     "output_type": "stream",
     "text": [
      "data batch shape (20, 150, 150, 3)\n",
      "labels batch shape (20,)\n"
     ]
    }
   ],
   "source": [
    "for data_batch, labels_batch in train_generator:\n",
    "    print('data batch shape', data_batch.shape)\n",
    "    print('labels batch shape', labels_batch.shape)\n",
    "    break"
   ]
  },
  {
   "cell_type": "code",
   "execution_count": 22,
   "metadata": {},
   "outputs": [
    {
     "name": "stdout",
     "output_type": "stream",
     "text": [
      "Epoch 1/30\n",
      "100/100 [==============================] - 72s - loss: 0.6851 - acc: 0.5590 - val_loss: 0.6620 - val_acc: 0.6090\n",
      "Epoch 2/30\n",
      "100/100 [==============================] - 68s - loss: 0.6495 - acc: 0.6355 - val_loss: 0.6328 - val_acc: 0.6150\n",
      "Epoch 3/30\n",
      "100/100 [==============================] - 69s - loss: 0.5990 - acc: 0.6710 - val_loss: 0.5945 - val_acc: 0.6660\n",
      "Epoch 4/30\n",
      "100/100 [==============================] - 69s - loss: 0.5643 - acc: 0.7010 - val_loss: 0.5925 - val_acc: 0.6880\n",
      "Epoch 5/30\n",
      "100/100 [==============================] - 68s - loss: 0.5327 - acc: 0.7375 - val_loss: 0.5793 - val_acc: 0.6840\n",
      "Epoch 6/30\n",
      "100/100 [==============================] - 68s - loss: 0.5131 - acc: 0.7420 - val_loss: 0.5709 - val_acc: 0.6910\n",
      "Epoch 7/30\n",
      "100/100 [==============================] - 69s - loss: 0.4826 - acc: 0.7580 - val_loss: 0.5801 - val_acc: 0.7060\n",
      "Epoch 8/30\n",
      "100/100 [==============================] - 67s - loss: 0.4517 - acc: 0.7825 - val_loss: 0.6085 - val_acc: 0.6850\n",
      "Epoch 9/30\n",
      "100/100 [==============================] - 68s - loss: 0.4339 - acc: 0.8000 - val_loss: 0.5685 - val_acc: 0.7230\n",
      "Epoch 10/30\n",
      "100/100 [==============================] - 67s - loss: 0.4031 - acc: 0.8115 - val_loss: 0.5320 - val_acc: 0.7290\n",
      "Epoch 11/30\n",
      "100/100 [==============================] - 70s - loss: 0.3808 - acc: 0.8305 - val_loss: 0.5404 - val_acc: 0.7400\n",
      "Epoch 12/30\n",
      "100/100 [==============================] - 71s - loss: 0.3559 - acc: 0.8385 - val_loss: 0.5455 - val_acc: 0.7250\n",
      "Epoch 13/30\n",
      "100/100 [==============================] - 70s - loss: 0.3360 - acc: 0.8535 - val_loss: 0.5323 - val_acc: 0.7410\n",
      "Epoch 14/30\n",
      "100/100 [==============================] - 70s - loss: 0.3089 - acc: 0.8670 - val_loss: 0.6456 - val_acc: 0.7200\n",
      "Epoch 15/30\n",
      "100/100 [==============================] - 70s - loss: 0.2854 - acc: 0.8845 - val_loss: 0.5814 - val_acc: 0.7230\n",
      "Epoch 16/30\n",
      "100/100 [==============================] - 70s - loss: 0.2658 - acc: 0.8940 - val_loss: 0.5728 - val_acc: 0.7450\n",
      "Epoch 17/30\n",
      "100/100 [==============================] - 71s - loss: 0.2440 - acc: 0.9045 - val_loss: 0.6086 - val_acc: 0.7410\n",
      "Epoch 18/30\n",
      "100/100 [==============================] - 70s - loss: 0.2205 - acc: 0.9155 - val_loss: 0.5662 - val_acc: 0.7490\n",
      "Epoch 19/30\n",
      "100/100 [==============================] - 69s - loss: 0.2106 - acc: 0.9215 - val_loss: 0.6761 - val_acc: 0.7150\n",
      "Epoch 20/30\n",
      "100/100 [==============================] - 69s - loss: 0.1915 - acc: 0.9315 - val_loss: 0.6353 - val_acc: 0.7420\n",
      "Epoch 21/30\n",
      "100/100 [==============================] - 73s - loss: 0.1648 - acc: 0.9440 - val_loss: 0.6423 - val_acc: 0.7380\n",
      "Epoch 22/30\n",
      "100/100 [==============================] - 73s - loss: 0.1564 - acc: 0.9480 - val_loss: 0.6689 - val_acc: 0.7350\n",
      "Epoch 23/30\n",
      "100/100 [==============================] - 70s - loss: 0.1415 - acc: 0.9540 - val_loss: 0.7165 - val_acc: 0.7360\n",
      "Epoch 24/30\n",
      "100/100 [==============================] - 71s - loss: 0.1159 - acc: 0.9660 - val_loss: 0.7455 - val_acc: 0.7490\n",
      "Epoch 25/30\n",
      "100/100 [==============================] - 74s - loss: 0.1042 - acc: 0.9670 - val_loss: 0.7429 - val_acc: 0.7450\n",
      "Epoch 26/30\n",
      "100/100 [==============================] - 77s - loss: 0.0881 - acc: 0.9740 - val_loss: 0.7497 - val_acc: 0.7470\n",
      "Epoch 27/30\n",
      "100/100 [==============================] - 70s - loss: 0.0785 - acc: 0.9785 - val_loss: 0.7660 - val_acc: 0.7360\n",
      "Epoch 28/30\n",
      "100/100 [==============================] - 71s - loss: 0.0606 - acc: 0.9835 - val_loss: 0.8621 - val_acc: 0.7370\n",
      "Epoch 29/30\n",
      "100/100 [==============================] - 71s - loss: 0.0630 - acc: 0.9815 - val_loss: 0.8276 - val_acc: 0.7150\n",
      "Epoch 30/30\n",
      "100/100 [==============================] - 73s - loss: 0.0460 - acc: 0.9905 - val_loss: 0.8640 - val_acc: 0.7400\n"
     ]
    }
   ],
   "source": [
    "history = model.fit_generator(train_generator, steps_per_epoch=100, epochs=30, validation_data=validation_generator, validation_steps=50)\n",
    "model.save('cats_and_dogs_small_1.h5')"
   ]
  },
  {
   "cell_type": "code",
   "execution_count": 24,
   "metadata": {},
   "outputs": [
    {
     "data": {
      "image/png": "[encoded data removed]",
      "text/plain": [
       "<Figure size 432x288 with 1 Axes>"
      ]
     },
     "metadata": {
      "needs_background": "light"
     },
     "output_type": "display_data"
    },
    {
     "data": {
      "image/png": "[encoded data removed]",
      "text/plain": [
       "<Figure size 432x288 with 1 Axes>"
      ]
     },
     "metadata": {
      "needs_background": "light"
     },
     "output_type": "display_data"
    }
   ],
   "source": [
    "import matplotlib.pyplot as plt\n",
    "%matplotlib inline\n",
    "\n",
    "acc = history.history['acc']\n",
    "val_acc = history.history['val_acc']\n",
    "loss = history.history['loss']\n",
    "val_loss = history.history['val_loss']\n",
    "\n",
    "epochs = range(1, len(acc) + 1)\n",
    "\n",
    "plt.plot(epochs, acc, 'bo', label='Training acc')\n",
    "plt.plot(epochs, val_acc, 'b', label='Validation acc')\n",
    "plt.title('Training and validation accuarcy')\n",
    "plt.legend()\n",
    "\n",
    "plt.figure()\n",
    "\n",
    "plt.plot(epochs, loss, 'bo', label='Training loss')\n",
    "plt.plot(epochs, val_loss, 'b', label='Validation loss')\n",
    "plt.title('Training and validation loss')\n",
    "plt.legend()\n",
    "plt.show()"
   ]
  },
  {
   "cell_type": "code",
   "execution_count": null,
   "metadata": {},
   "outputs": [],
   "source": []
  }
 ],
 "metadata": {
  "kernelspec": {
   "display_name": "Python 3",
   "language": "python",
   "name": "python3"
  },
  "language_info": {
   "codemirror_mode": {
    "name": "ipython",
    "version": 3
   },
   "file_extension": ".py",
   "mimetype": "text/x-python",
   "name": "python",
   "nbconvert_exporter": "python",
   "pygments_lexer": "ipython3",
   "version": "3.6.5"
  }
 },
 "nbformat": 4,
 "nbformat_minor": 2
}
