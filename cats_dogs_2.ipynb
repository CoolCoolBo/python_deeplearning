{
 "cells": [
  {
   "cell_type": "markdown",
   "metadata": {},
   "source": [
    "# 优化后的猫狗分类器"
   ]
  },
  {
   "cell_type": "code",
   "execution_count": 14,
   "metadata": {},
   "outputs": [],
   "source": [
    "from keras.preprocessing.image import ImageDataGenerator\n",
    "from keras.preprocessing import image\n",
    "import os\n",
    "import matplotlib.pyplot as plt\n",
    "from keras import models\n",
    "from keras import layers\n",
    "\n",
    "datagen = ImageDataGenerator(rotation_range=40,width_shift_range=0.2,height_shift_range=0.2,shear_range=0.2,zoom_range=0.2,horizontal_flip=True,fill_mode='nearest')"
   ]
  },
  {
   "cell_type": "code",
   "execution_count": 15,
   "metadata": {},
   "outputs": [],
   "source": [
    "train_cats_dir  = './cats_and_dogs_small/train/cats'\n",
    "train_dir  = './cats_and_dogs_small/train'\n",
    "validation_dir  = './cats_and_dogs_small/validation'"
   ]
  },
  {
   "cell_type": "code",
   "execution_count": 16,
   "metadata": {},
   "outputs": [
    {
     "name": "stdout",
     "output_type": "stream",
     "text": [
      "WARNING:tensorflow:From /home/bo/anaconda3/lib/python3.6/site-packages/keras/backend/tensorflow_backend.py:1208: calling reduce_prod (from tensorflow.python.ops.math_ops) with keep_dims is deprecated and will be removed in a future version.\n",
      "Instructions for updating:\n",
      "keep_dims is deprecated, use keepdims instead\n"
     ]
    }
   ],
   "source": [
    "model = models.Sequential()\n",
    "model.add(layers.Conv2D(32, (3,3), activation='relu', input_shape=(150, 150, 3)))\n",
    "model.add(layers.MaxPooling2D((2,2)))\n",
    "model.add(layers.Conv2D(64, (3,3), activation='relu'))\n",
    "model.add(layers.MaxPooling2D((2,2)))\n",
    "model.add(layers.Conv2D(128, (3,3), activation='relu'))\n",
    "model.add(layers.MaxPooling2D((2,2)))\n",
    "model.add(layers.Conv2D(128, (3,3), activation='relu'))\n",
    "model.add(layers.MaxPooling2D((2,2)))\n",
    "model.add(layers.Flatten())\n",
    "model.add(layers.Dropout(0.5))\n",
    "model.add(layers.Dense(512, activation='relu'))\n",
    "model.add(layers.Dense(1, activation='sigmoid'))"
   ]
  },
  {
   "cell_type": "code",
   "execution_count": 20,
   "metadata": {},
   "outputs": [],
   "source": [
    "from keras import optimizers"
   ]
  },
  {
   "cell_type": "code",
   "execution_count": 21,
   "metadata": {},
   "outputs": [
    {
     "name": "stdout",
     "output_type": "stream",
     "text": [
      "WARNING:tensorflow:From /home/bo/anaconda3/lib/python3.6/site-packages/keras/backend/tensorflow_backend.py:1297: calling reduce_mean (from tensorflow.python.ops.math_ops) with keep_dims is deprecated and will be removed in a future version.\n",
      "Instructions for updating:\n",
      "keep_dims is deprecated, use keepdims instead\n"
     ]
    }
   ],
   "source": [
    "model.compile(loss='binary_crossentropy', optimizer=optimizers.RMSprop(lr=1e-4), metrics=['acc'])"
   ]
  },
  {
   "cell_type": "code",
   "execution_count": 22,
   "metadata": {},
   "outputs": [
    {
     "name": "stdout",
     "output_type": "stream",
     "text": [
      "Found 2000 images belonging to 2 classes.\n",
      "Found 1000 images belonging to 2 classes.\n",
      "Epoch 1/100\n",
      "100/100 [==============================] - 117s - loss: 0.6905 - acc: 0.5216 - val_loss: 0.6821 - val_acc: 0.5641\n",
      "Epoch 2/100\n",
      "100/100 [==============================] - 111s - loss: 0.6807 - acc: 0.5572 - val_loss: 0.6627 - val_acc: 0.5870\n",
      "Epoch 3/100\n",
      "100/100 [==============================] - 111s - loss: 0.6709 - acc: 0.5778 - val_loss: 0.6449 - val_acc: 0.6218\n",
      "Epoch 4/100\n",
      "100/100 [==============================] - 112s - loss: 0.6564 - acc: 0.6006 - val_loss: 0.7130 - val_acc: 0.5309\n",
      "Epoch 5/100\n",
      "100/100 [==============================] - 112s - loss: 0.6359 - acc: 0.6284 - val_loss: 0.5991 - val_acc: 0.6572\n",
      "Epoch 6/100\n",
      "100/100 [==============================] - 112s - loss: 0.6138 - acc: 0.6550 - val_loss: 0.5858 - val_acc: 0.6821\n",
      "Epoch 7/100\n",
      "100/100 [==============================] - 112s - loss: 0.6025 - acc: 0.6759 - val_loss: 0.6183 - val_acc: 0.6390\n",
      "Epoch 8/100\n",
      "100/100 [==============================] - 112s - loss: 0.5975 - acc: 0.6662 - val_loss: 0.6587 - val_acc: 0.6231\n",
      "Epoch 9/100\n",
      "100/100 [==============================] - 112s - loss: 0.5904 - acc: 0.6725 - val_loss: 0.6114 - val_acc: 0.6440\n",
      "Epoch 10/100\n",
      "100/100 [==============================] - 112s - loss: 0.5770 - acc: 0.6978 - val_loss: 0.5283 - val_acc: 0.7313\n",
      "Epoch 11/100\n",
      "100/100 [==============================] - 112s - loss: 0.5716 - acc: 0.6881 - val_loss: 0.5768 - val_acc: 0.7010\n",
      "Epoch 12/100\n",
      "100/100 [==============================] - 112s - loss: 0.5818 - acc: 0.6885 - val_loss: 0.5489 - val_acc: 0.7159\n",
      "Epoch 13/100\n",
      "100/100 [==============================] - 112s - loss: 0.5628 - acc: 0.7088 - val_loss: 0.5516 - val_acc: 0.6907\n",
      "Epoch 14/100\n",
      "100/100 [==============================] - 112s - loss: 0.5514 - acc: 0.7119 - val_loss: 0.5111 - val_acc: 0.7589\n",
      "Epoch 15/100\n",
      "100/100 [==============================] - 112s - loss: 0.5481 - acc: 0.7206 - val_loss: 0.5156 - val_acc: 0.7405\n",
      "Epoch 16/100\n",
      "100/100 [==============================] - 112s - loss: 0.5545 - acc: 0.7159 - val_loss: 0.5079 - val_acc: 0.7544\n",
      "Epoch 17/100\n",
      "100/100 [==============================] - 112s - loss: 0.5376 - acc: 0.7234 - val_loss: 0.5011 - val_acc: 0.7481\n",
      "Epoch 18/100\n",
      "100/100 [==============================] - 112s - loss: 0.5374 - acc: 0.7262 - val_loss: 0.5111 - val_acc: 0.7423\n",
      "Epoch 19/100\n",
      "100/100 [==============================] - 112s - loss: 0.5307 - acc: 0.7334 - val_loss: 0.5102 - val_acc: 0.7416\n",
      "Epoch 20/100\n",
      "100/100 [==============================] - 112s - loss: 0.5295 - acc: 0.7291 - val_loss: 0.4864 - val_acc: 0.7629\n",
      "Epoch 21/100\n",
      "100/100 [==============================] - 111s - loss: 0.5260 - acc: 0.7260 - val_loss: 0.5237 - val_acc: 0.7313\n",
      "Epoch 22/100\n",
      "100/100 [==============================] - 113s - loss: 0.5223 - acc: 0.7425 - val_loss: 0.5028 - val_acc: 0.7538\n",
      "Epoch 23/100\n",
      "100/100 [==============================] - 111s - loss: 0.5251 - acc: 0.7431 - val_loss: 0.4651 - val_acc: 0.7843\n",
      "Epoch 24/100\n",
      "100/100 [==============================] - 112s - loss: 0.5175 - acc: 0.7447 - val_loss: 0.4744 - val_acc: 0.7747\n",
      "Epoch 25/100\n",
      "100/100 [==============================] - 112s - loss: 0.5032 - acc: 0.7594 - val_loss: 0.5382 - val_acc: 0.7246\n",
      "Epoch 26/100\n",
      "100/100 [==============================] - 112s - loss: 0.4859 - acc: 0.7616 - val_loss: 0.4917 - val_acc: 0.7584\n",
      "Epoch 27/100\n",
      "100/100 [==============================] - 112s - loss: 0.5010 - acc: 0.7581 - val_loss: 0.4461 - val_acc: 0.7957\n",
      "Epoch 28/100\n",
      "100/100 [==============================] - 111s - loss: 0.4922 - acc: 0.7641 - val_loss: 0.4559 - val_acc: 0.7957\n",
      "Epoch 29/100\n",
      "100/100 [==============================] - 112s - loss: 0.4846 - acc: 0.7759 - val_loss: 0.4519 - val_acc: 0.7816\n",
      "Epoch 30/100\n",
      "100/100 [==============================] - 113s - loss: 0.4845 - acc: 0.7631 - val_loss: 0.4569 - val_acc: 0.7722\n",
      "Epoch 31/100\n",
      "100/100 [==============================] - 111s - loss: 0.4905 - acc: 0.7619 - val_loss: 0.4628 - val_acc: 0.7798\n",
      "Epoch 32/100\n",
      "100/100 [==============================] - 112s - loss: 0.4782 - acc: 0.7719 - val_loss: 0.4681 - val_acc: 0.7728\n",
      "Epoch 33/100\n",
      "100/100 [==============================] - 112s - loss: 0.4764 - acc: 0.7700 - val_loss: 0.4631 - val_acc: 0.7817\n",
      "Epoch 34/100\n",
      "100/100 [==============================] - 112s - loss: 0.4779 - acc: 0.7694 - val_loss: 0.4407 - val_acc: 0.7899\n",
      "Epoch 35/100\n",
      "100/100 [==============================] - 111s - loss: 0.4665 - acc: 0.7772 - val_loss: 0.4589 - val_acc: 0.7861\n",
      "Epoch 36/100\n",
      "100/100 [==============================] - 111s - loss: 0.4727 - acc: 0.7656 - val_loss: 0.4318 - val_acc: 0.8157\n",
      "Epoch 37/100\n",
      "100/100 [==============================] - 111s - loss: 0.4709 - acc: 0.7763 - val_loss: 0.4803 - val_acc: 0.7758\n",
      "Epoch 38/100\n",
      "100/100 [==============================] - 112s - loss: 0.4636 - acc: 0.7850 - val_loss: 0.4696 - val_acc: 0.7671\n",
      "Epoch 39/100\n",
      "100/100 [==============================] - 112s - loss: 0.4557 - acc: 0.7903 - val_loss: 0.4418 - val_acc: 0.7792\n",
      "Epoch 40/100\n",
      "100/100 [==============================] - 111s - loss: 0.4633 - acc: 0.7791 - val_loss: 0.4166 - val_acc: 0.8249\n",
      "Epoch 41/100\n",
      "100/100 [==============================] - 112s - loss: 0.4716 - acc: 0.7709 - val_loss: 0.4342 - val_acc: 0.8065\n",
      "Epoch 42/100\n",
      "100/100 [==============================] - 112s - loss: 0.4524 - acc: 0.7794 - val_loss: 0.4451 - val_acc: 0.8183\n",
      "Epoch 43/100\n",
      "100/100 [==============================] - 110s - loss: 0.4592 - acc: 0.7766 - val_loss: 0.5045 - val_acc: 0.7384\n",
      "Epoch 44/100\n",
      "100/100 [==============================] - 111s - loss: 0.4602 - acc: 0.7878 - val_loss: 0.4228 - val_acc: 0.8067\n",
      "Epoch 45/100\n",
      "100/100 [==============================] - 111s - loss: 0.4394 - acc: 0.7934 - val_loss: 0.4237 - val_acc: 0.8151\n",
      "Epoch 46/100\n",
      "100/100 [==============================] - 111s - loss: 0.4596 - acc: 0.7903 - val_loss: 0.4655 - val_acc: 0.7855\n",
      "Epoch 47/100\n",
      "100/100 [==============================] - 112s - loss: 0.4484 - acc: 0.7962 - val_loss: 0.4305 - val_acc: 0.8046\n",
      "Epoch 48/100\n",
      "100/100 [==============================] - 111s - loss: 0.4211 - acc: 0.8066 - val_loss: 0.4253 - val_acc: 0.8160\n",
      "Epoch 49/100\n",
      "100/100 [==============================] - 112s - loss: 0.4406 - acc: 0.7987 - val_loss: 0.4081 - val_acc: 0.8077\n",
      "Epoch 50/100\n",
      "100/100 [==============================] - 111s - loss: 0.4300 - acc: 0.8041 - val_loss: 0.4281 - val_acc: 0.8112\n",
      "Epoch 51/100\n",
      "100/100 [==============================] - 110s - loss: 0.4430 - acc: 0.7947 - val_loss: 0.4410 - val_acc: 0.7957\n",
      "Epoch 52/100\n",
      "100/100 [==============================] - 110s - loss: 0.4389 - acc: 0.8019 - val_loss: 0.4151 - val_acc: 0.8164\n",
      "Epoch 53/100\n",
      "100/100 [==============================] - 110s - loss: 0.4349 - acc: 0.7978 - val_loss: 0.4498 - val_acc: 0.7996\n",
      "Epoch 54/100\n",
      "100/100 [==============================] - 111s - loss: 0.4133 - acc: 0.8078 - val_loss: 0.4253 - val_acc: 0.8141\n",
      "Epoch 55/100\n",
      "100/100 [==============================] - 111s - loss: 0.4142 - acc: 0.8072 - val_loss: 0.4163 - val_acc: 0.8198\n",
      "Epoch 56/100\n",
      "100/100 [==============================] - 111s - loss: 0.4229 - acc: 0.8016 - val_loss: 0.4644 - val_acc: 0.7811\n",
      "Epoch 57/100\n",
      "100/100 [==============================] - 111s - loss: 0.4192 - acc: 0.8078 - val_loss: 0.4002 - val_acc: 0.8242\n",
      "Epoch 58/100\n",
      "100/100 [==============================] - 111s - loss: 0.4172 - acc: 0.8041 - val_loss: 0.4050 - val_acc: 0.8099\n",
      "Epoch 59/100\n",
      "100/100 [==============================] - 111s - loss: 0.4177 - acc: 0.8037 - val_loss: 0.4556 - val_acc: 0.7990\n",
      "Epoch 60/100\n",
      "100/100 [==============================] - 111s - loss: 0.4217 - acc: 0.8031 - val_loss: 0.4250 - val_acc: 0.8138\n",
      "Epoch 61/100\n",
      "100/100 [==============================] - 112s - loss: 0.4200 - acc: 0.8072 - val_loss: 0.4292 - val_acc: 0.8009\n",
      "Epoch 62/100\n",
      "100/100 [==============================] - 111s - loss: 0.4044 - acc: 0.8222 - val_loss: 0.3988 - val_acc: 0.8261\n",
      "Epoch 63/100\n",
      "100/100 [==============================] - 111s - loss: 0.4052 - acc: 0.8159 - val_loss: 0.4057 - val_acc: 0.8274\n",
      "Epoch 64/100\n"
     ]
    },
    {
     "name": "stdout",
     "output_type": "stream",
     "text": [
      "100/100 [==============================] - 111s - loss: 0.4034 - acc: 0.8144 - val_loss: 0.3955 - val_acc: 0.8306\n",
      "Epoch 65/100\n",
      "100/100 [==============================] - 110s - loss: 0.4196 - acc: 0.8066 - val_loss: 0.4124 - val_acc: 0.8217\n",
      "Epoch 66/100\n",
      "100/100 [==============================] - 110s - loss: 0.4078 - acc: 0.8109 - val_loss: 0.4330 - val_acc: 0.8080\n",
      "Epoch 67/100\n",
      "100/100 [==============================] - 111s - loss: 0.4069 - acc: 0.8066 - val_loss: 0.3824 - val_acc: 0.8428\n",
      "Epoch 68/100\n",
      "100/100 [==============================] - 111s - loss: 0.3915 - acc: 0.8169 - val_loss: 0.4719 - val_acc: 0.8093\n",
      "Epoch 69/100\n",
      "100/100 [==============================] - 111s - loss: 0.4024 - acc: 0.8181 - val_loss: 0.3782 - val_acc: 0.8499\n",
      "Epoch 70/100\n",
      "100/100 [==============================] - 111s - loss: 0.4056 - acc: 0.8150 - val_loss: 0.3969 - val_acc: 0.8306\n",
      "Epoch 71/100\n",
      "100/100 [==============================] - 111s - loss: 0.3886 - acc: 0.8206 - val_loss: 0.4344 - val_acc: 0.8096\n",
      "Epoch 72/100\n",
      "100/100 [==============================] - 111s - loss: 0.3881 - acc: 0.8266 - val_loss: 0.4099 - val_acc: 0.8128\n",
      "Epoch 73/100\n",
      "100/100 [==============================] - 112s - loss: 0.3907 - acc: 0.8266 - val_loss: 0.4207 - val_acc: 0.8052\n",
      "Epoch 74/100\n",
      "100/100 [==============================] - 110s - loss: 0.3900 - acc: 0.8237 - val_loss: 0.4206 - val_acc: 0.8015\n",
      "Epoch 75/100\n",
      "100/100 [==============================] - 111s - loss: 0.3847 - acc: 0.8197 - val_loss: 0.4164 - val_acc: 0.8222\n",
      "Epoch 76/100\n",
      "100/100 [==============================] - 111s - loss: 0.3919 - acc: 0.8259 - val_loss: 0.4106 - val_acc: 0.8260\n",
      "Epoch 77/100\n",
      "100/100 [==============================] - 111s - loss: 0.3867 - acc: 0.8184 - val_loss: 0.4140 - val_acc: 0.8138\n",
      "Epoch 78/100\n",
      "100/100 [==============================] - 112s - loss: 0.3899 - acc: 0.8191 - val_loss: 0.5257 - val_acc: 0.7798\n",
      "Epoch 79/100\n",
      "100/100 [==============================] - 111s - loss: 0.3844 - acc: 0.8306 - val_loss: 0.4324 - val_acc: 0.7976\n",
      "Epoch 80/100\n",
      "100/100 [==============================] - 112s - loss: 0.3730 - acc: 0.8350 - val_loss: 0.3829 - val_acc: 0.8312\n",
      "Epoch 81/100\n",
      "100/100 [==============================] - 111s - loss: 0.3948 - acc: 0.8197 - val_loss: 0.3712 - val_acc: 0.8433\n",
      "Epoch 82/100\n",
      "100/100 [==============================] - 111s - loss: 0.3927 - acc: 0.8231 - val_loss: 0.4227 - val_acc: 0.8086\n",
      "Epoch 83/100\n",
      "100/100 [==============================] - 111s - loss: 0.3763 - acc: 0.8328 - val_loss: 0.3794 - val_acc: 0.8389\n",
      "Epoch 84/100\n",
      "100/100 [==============================] - 110s - loss: 0.3767 - acc: 0.8334 - val_loss: 0.4079 - val_acc: 0.8177\n",
      "Epoch 85/100\n",
      "100/100 [==============================] - 111s - loss: 0.3610 - acc: 0.8431 - val_loss: 0.3921 - val_acc: 0.8228\n",
      "Epoch 86/100\n",
      "100/100 [==============================] - 111s - loss: 0.3754 - acc: 0.8316 - val_loss: 0.3895 - val_acc: 0.8388\n",
      "Epoch 87/100\n",
      "100/100 [==============================] - 111s - loss: 0.3697 - acc: 0.8378 - val_loss: 0.3603 - val_acc: 0.8293\n",
      "Epoch 88/100\n",
      "100/100 [==============================] - 111s - loss: 0.3757 - acc: 0.8341 - val_loss: 0.3809 - val_acc: 0.8312\n",
      "Epoch 89/100\n",
      "100/100 [==============================] - 111s - loss: 0.3513 - acc: 0.8456 - val_loss: 0.3830 - val_acc: 0.8255\n",
      "Epoch 90/100\n",
      "100/100 [==============================] - 111s - loss: 0.3511 - acc: 0.8484 - val_loss: 0.3881 - val_acc: 0.8338\n",
      "Epoch 91/100\n",
      "100/100 [==============================] - 110s - loss: 0.3479 - acc: 0.8422 - val_loss: 0.4023 - val_acc: 0.8299\n",
      "Epoch 92/100\n",
      "100/100 [==============================] - 111s - loss: 0.3711 - acc: 0.8375 - val_loss: 0.4787 - val_acc: 0.7841\n",
      "Epoch 93/100\n",
      "100/100 [==============================] - 113s - loss: 0.3620 - acc: 0.8406 - val_loss: 0.3783 - val_acc: 0.8454\n",
      "Epoch 94/100\n",
      "100/100 [==============================] - 113s - loss: 0.3570 - acc: 0.8409 - val_loss: 0.3767 - val_acc: 0.8325\n",
      "Epoch 95/100\n",
      "100/100 [==============================] - 113s - loss: 0.3509 - acc: 0.8419 - val_loss: 0.4168 - val_acc: 0.8192\n",
      "Epoch 96/100\n",
      "100/100 [==============================] - 114s - loss: 0.3589 - acc: 0.8406 - val_loss: 0.3724 - val_acc: 0.8382\n",
      "Epoch 97/100\n",
      "100/100 [==============================] - 118s - loss: 0.3509 - acc: 0.8487 - val_loss: 0.3462 - val_acc: 0.8566\n",
      "Epoch 98/100\n",
      "100/100 [==============================] - 118s - loss: 0.3435 - acc: 0.8462 - val_loss: 0.4167 - val_acc: 0.8293\n",
      "Epoch 99/100\n",
      "100/100 [==============================] - 116s - loss: 0.3376 - acc: 0.8500 - val_loss: 0.4619 - val_acc: 0.8093\n",
      "Epoch 100/100\n",
      "100/100 [==============================] - 115s - loss: 0.3527 - acc: 0.8472 - val_loss: 0.4240 - val_acc: 0.8151\n"
     ]
    }
   ],
   "source": [
    "train_datagen = ImageDataGenerator(rescale=1./255,rotation_range=40,width_shift_range=0.2,height_shift_range=0.2,shear_range=0.2,zoom_range=0.2,horizontal_flip=True)\n",
    "test_datagen = ImageDataGenerator(rescale=1./255)\n",
    "\n",
    "train_generator = train_datagen.flow_from_directory(train_dir, target_size=(150,150),batch_size=32,class_mode='binary')\n",
    "validation_generator = test_datagen.flow_from_directory(validation_dir, target_size=(150,150),batch_size=32,class_mode='binary')\n",
    "\n",
    "history = model.fit_generator(train_generator, steps_per_epoch=100, epochs=100, validation_data=validation_generator, validation_steps=50)\n",
    "model.save('cats_and_dogs_small_2.h5')"
   ]
  },
  {
   "cell_type": "code",
   "execution_count": 23,
   "metadata": {},
   "outputs": [
    {
     "data": {
      "image/png": "[encoded data removed]",
      "text/plain": [
       "<Figure size 432x288 with 1 Axes>"
      ]
     },
     "metadata": {
      "needs_background": "light"
     },
     "output_type": "display_data"
    },
    {
     "data": {
      "image/png": "[encoded data removed]",
      "text/plain": [
       "<Figure size 432x288 with 1 Axes>"
      ]
     },
     "metadata": {
      "needs_background": "light"
     },
     "output_type": "display_data"
    }
   ],
   "source": [
    "%matplotlib inline\n",
    "\n",
    "acc = history.history['acc']\n",
    "val_acc = history.history['val_acc']\n",
    "loss = history.history['loss']\n",
    "val_loss = history.history['val_loss']\n",
    "\n",
    "epochs = range(1, len(acc) + 1)\n",
    "\n",
    "plt.plot(epochs, acc, 'bo', label='Training acc')\n",
    "plt.plot(epochs, val_acc, 'b', label='Validation acc')\n",
    "plt.title('Training and validation accuarcy')\n",
    "plt.legend()\n",
    "\n",
    "plt.figure()\n",
    "\n",
    "plt.plot(epochs, loss, 'bo', label='Training loss')\n",
    "plt.plot(epochs, val_loss, 'b', label='Validation loss')\n",
    "plt.title('Training and validation loss')\n",
    "plt.legend()\n",
    "plt.show()\n"
   ]
  },
  {
   "cell_type": "code",
   "execution_count": null,
   "metadata": {},
   "outputs": [],
   "source": []
  }
 ],
 "metadata": {
  "kernelspec": {
   "display_name": "Python 3",
   "language": "python",
   "name": "python3"
  },
  "language_info": {
   "codemirror_mode": {
    "name": "ipython",
    "version": 3
   },
   "file_extension": ".py",
   "mimetype": "text/x-python",
   "name": "python",
   "nbconvert_exporter": "python",
   "pygments_lexer": "ipython3",
   "version": "3.6.5"
  }
 },
 "nbformat": 4,
 "nbformat_minor": 2
}
